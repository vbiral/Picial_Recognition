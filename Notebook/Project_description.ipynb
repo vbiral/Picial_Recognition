{
 "cells": [
  {
   "cell_type": "markdown",
   "metadata": {},
   "source": [
    "# Imports"
   ]
  },
  {
   "cell_type": "markdown",
   "metadata": {},
   "source": [
    "## CV2"
   ]
  },
  {
   "cell_type": "code",
   "execution_count": 90,
   "metadata": {
    "ExecuteTime": {
     "end_time": "2018-11-03T02:18:39.051328Z",
     "start_time": "2018-11-03T02:18:39.031634Z"
    }
   },
   "outputs": [],
   "source": [
    "import cv2"
   ]
  },
  {
   "cell_type": "markdown",
   "metadata": {},
   "source": [
    "This project uses basically the openCV library to make the facial recognition.\n",
    "To know more you can acess the Github page of the project: https://github.com/opencv/opencv\n",
    "There're many courses in the internet, (like Udemy), that explcains with a easy language the basics of the library"
   ]
  },
  {
   "cell_type": "markdown",
   "metadata": {},
   "source": [
    "## Numpy"
   ]
  },
  {
   "cell_type": "code",
   "execution_count": null,
   "metadata": {},
   "outputs": [],
   "source": [
    "import numpy as np"
   ]
  },
  {
   "cell_type": "markdown",
   "metadata": {},
   "source": [
    "The numpy library make some calculus most faster than if they was made in Python, so is very recommended you to use"
   ]
  },
  {
   "cell_type": "markdown",
   "metadata": {},
   "source": [
    "## OS"
   ]
  },
  {
   "cell_type": "code",
   "execution_count": null,
   "metadata": {},
   "outputs": [],
   "source": [
    "import os"
   ]
  },
  {
   "cell_type": "markdown",
   "metadata": {},
   "source": [
    "To open the photo files you need to use this library"
   ]
  },
  {
   "cell_type": "markdown",
   "metadata": {},
   "source": [
    "## Multiprocessing"
   ]
  },
  {
   "cell_type": "code",
   "execution_count": null,
   "metadata": {},
   "outputs": [],
   "source": [
    "from multiprocessing import TimeoutError\n",
    "from multiprocessing.pool import ThreadPool"
   ]
  },
  {
   "cell_type": "markdown",
   "metadata": {},
   "source": [
    "?To make a timed input we need to change some aspects of the input function"
   ]
  },
  {
   "cell_type": "markdown",
   "metadata": {},
   "source": [
    "# Utils"
   ]
  },
  {
   "cell_type": "markdown",
   "metadata": {},
   "source": [
    "## TimeOut"
   ]
  },
  {
   "cell_type": "code",
   "execution_count": null,
   "metadata": {},
   "outputs": [],
   "source": [
    "def timeout(seconds):\n",
    "    def decorator(function):\n",
    "        def wrapper(*args, **kwargs):\n",
    "            pool = ThreadPool(processes=1)\n",
    "            result = pool.apply_async(function, args=args, kwds=kwargs)\n",
    "            try:\n",
    "                return result.get(timeout=seconds)\n",
    "            except TimeoutError as e:\n",
    "                return e\n",
    "        return wrapper\n",
    "    return decorator"
   ]
  },
  {
   "cell_type": "markdown",
   "metadata": {},
   "source": [
    "This function alter the input time from infinite to the time specified by the user, (in this case 60s)"
   ]
  },
  {
   "cell_type": "markdown",
   "metadata": {},
   "source": [
    "## Input functions"
   ]
  },
  {
   "cell_type": "code",
   "execution_count": null,
   "metadata": {},
   "outputs": [],
   "source": [
    "@timeout(60)\n",
    "def read_user_name(pergunta):\n",
    "    return input(pergunta)\n",
    "\n",
    "def verifica_resposta_valida(pergunta):\n",
    "    while(1):\n",
    "        resp = read_user_name(pergunta)\n",
    "        if isinstance(resp, TimeoutError):\n",
    "            resp = 'n'\n",
    "        \n",
    "        if(resp != 'S' and resp != 's' and resp != 'N' and resp != 'n'):\n",
    "            print('Resposta Invalida! Tente Novamente!!!!!')\n",
    "        else:\n",
    "            break\n",
    "    \n",
    "    return resp.upper()\n",
    "    \n",
    "\n",
    "def insere_nome(pergunta = 'Nome: '):\n",
    "    resp = read_user_name('Nome: ')\n",
    "    if isinstance(resp, TimeoutError):\n",
    "            resp = 'n'\n",
    "    \n",
    "    return resp.lower()\n",
    "\n",
    "def insere_senha(pergunta = 'Senha: '):\n",
    "    resp = read_user_name(pergunta)\n",
    "    if isinstance(resp, TimeoutError):\n",
    "            resp = 'n'\n",
    "    \n",
    "    return(resp.lower())"
   ]
  },
  {
   "cell_type": "markdown",
   "metadata": {},
   "source": [
    "To use the timed input we have the \"read username()\" function that can receive a phrase to output or just use the standard phrase."
   ]
  },
  {
   "cell_type": "markdown",
   "metadata": {
    "ExecuteTime": {
     "end_time": "2018-11-03T16:34:00.706235Z",
     "start_time": "2018-11-03T16:34:00.686378Z"
    }
   },
   "source": [
    "To apply some pre-determined filters in the valid answers we use the functions verifica_resposta_valida(), insere_nome() and insere_senha(), that, respectivly, only accepts 'S' or 'N' and convert all the input to lower case."
   ]
  },
  {
   "cell_type": "markdown",
   "metadata": {},
   "source": [
    "## Principal Modes Functions"
   ]
  },
  {
   "cell_type": "code",
   "execution_count": null,
   "metadata": {},
   "outputs": [],
   "source": [
    "def modo_administrador(users, camera, classificador, classificadorolho):\n",
    "    user = str()\n",
    "    password = str()\n",
    "    print('########## Modo Administrativo ##########')\n",
    "\n",
    "    while(1):\n",
    "        user = insere_nome('Usuario: ')\n",
    "        password = insere_senha()\n",
    "        usuarios = []\n",
    "        senhas = []\n",
    "        for x in users:\n",
    "            usuarios.append(x[0])\n",
    "            senhas.append(x[1])\n",
    "        \n",
    "        if(user in usuarios):\n",
    "            index = usuarios.index(user)\n",
    "            if(password == senhas[index]):\n",
    "                break\n",
    "            else:\n",
    "                print('Usuario ou senha incorretas!!!!!')\n",
    "                resp = verifica_resposta_valida('Deseja tentar novamente? [S/N]')\n",
    "                if(resp == 'N'):\n",
    "                    return 1\n",
    "        else:\n",
    "            print('Usuario ou senha incorretas!!!!!')\n",
    "            resp = verifica_resposta_valida('Deseja tentar novamente? [S/N]')\n",
    "            if(resp == 'N'):\n",
    "                return 1\n",
    "    \n",
    "    while(1):\n",
    "        print('#### Acesso Concedido ####')\n",
    "        print('1. Criar novo usuário')\n",
    "        print('2. Apagar Usuario')\n",
    "        print('3. Listar Usuarios')\n",
    "        print('4. Abrir Fechadura')\n",
    "        print('5. Sair')\n",
    "        q = input('Escolha uma das opcoes: ')\n",
    "\n",
    "        if(q == '1'):\n",
    "            while(1):\n",
    "                user = insere_nome()\n",
    "                \n",
    "                if(user in usuarios):\n",
    "                    print('Usuario já existe!!!!')\n",
    "                    resp = verifica_resposta_valida('Deseja tentar novamente?[S/N] ')\n",
    "                    if(resp == 'N'):\n",
    "                        break\n",
    "                else:\n",
    "                    password = insere_senha()\n",
    "                    confirmacao = insere_senha('Confirme a senha: ')\n",
    "                    if(password == confirmacao):\n",
    "                        novo_usuario(user, password, camera, classificador, classificadorolho)\n",
    "                        break\n",
    "                    else:\n",
    "                        print('Senha e confirmacao nao batem!!!!!')\n",
    "                        resp = verifica_resposta_valida('Deseja tentar novamente?[S/N] ')\n",
    "                        if(resp == 'N'):\n",
    "                            break\n",
    "\n",
    "        elif(q == '2'):\n",
    "            while(1):\n",
    "                nome = insere_nome()\n",
    "                \n",
    "                if(nome not in usuarios):\n",
    "                    print('Nome nao existe na base!!!!!!!!')\n",
    "                    resp = verifica_resposta_valida('Deseja tentar novamente?[S/N] ')\n",
    "                    if(resp == 'N'):\n",
    "                        break\n",
    "                else:\n",
    "                    confirmacao = verifica_resposta_valida('Voce deseja realmente apagar o rosto de ' + nome + '?[S/N] ')\n",
    "                    if(confirmacao == 'S'):\n",
    "                        apagar_rosto(usuarios.find(nome))\n",
    "                        break\n",
    "\n",
    "        elif(q == '3'):\n",
    "            print('Usuario, senha')\n",
    "            for user in users:\n",
    "                print(user)\n",
    "                        \n",
    "        elif(q == '4'):\n",
    "            print('Porta aberta')\n",
    "                \n",
    "        else:\n",
    "            break\n",
    "    return 1\n",
    "\n",
    "def modo_vigilancia(camera, classificador, classificadorolho):\n",
    "    print('########## Modo Vigilância ##########')\n",
    "    while(camera.isOpened()):\n",
    "        conectado, imagem = camera.read() \n",
    "        if(conectado):\n",
    "            imagemcinza = cv2.cvtColor(imagem, cv2.COLOR_BGR2GRAY)\n",
    "            facesdetectadas = classificador.detectMultiScale(imagemcinza, scaleFactor=1.5, minSize=(100,100))\n",
    "\n",
    "        for (x,y,l,a) in facesdetectadas:\n",
    "            cv2.rectangle(imagem, (x,y), (x+l, y+a), (0,0,255), 2)\n",
    "        cv2.imshow('Face', imagem)\n",
    "\n",
    "        #Botão para cancelar a execução\n",
    "        key = cv2.waitKey(1) & 0xFF\n",
    "        if (key==27):\n",
    "            break\n",
    "    camera.release()\n",
    "    cv2.destroyAllWindows()"
   ]
  },
  {
   "cell_type": "markdown",
   "metadata": {},
   "source": [
    "The programs functions basically with 2 principal modes, that are, the Administrator Mode and the Vigilance Mode.<br>\n",
    "The Administrator Mode adds/remove users to the base, thats includ a User_name a Password and a series of photos to enable her/his passage. <br>\n",
    "Other use of the Administrator Mode is to open the locker that is connected to Raspberry, this can be useful if the camera has any problem.<br>\n",
    "The Vigilance mode just ability the camera and wait for someone to appear, and verify if the people that is in front of the door have permission to pass."
   ]
  },
  {
   "cell_type": "markdown",
   "metadata": {},
   "source": [
    "## Function to read the file users.txt"
   ]
  },
  {
   "cell_type": "code",
   "execution_count": null,
   "metadata": {},
   "outputs": [],
   "source": [
    "def ler_users():\n",
    "    arq = open('users.txt', 'r')\n",
    "    users = arq.readlines()\n",
    "    senhas = []\n",
    "    for i in range(len(users)):\n",
    "        if(i < len(users)-1):\n",
    "            users[i] = users[i][:-1]\n",
    "            usuario = users[i][:users[i].find(',')]\n",
    "            password = users[i][1+users[i].find(','):]\n",
    "            \n",
    "            lista = [usuario, password]\n",
    "            senhas.append(lista)\n",
    "            \n",
    "        else:\n",
    "            usuario = users[i][:users[i].find(',')]\n",
    "            password = users[i][1+users[i].find(','):]\n",
    "            \n",
    "            lista = [usuario, password]\n",
    "            senhas.append(lista)\n",
    "\n",
    "    return senhas"
   ]
  },
  {
   "cell_type": "markdown",
   "metadata": {},
   "source": [
    "The principal file of users is basically a txt file that contains the user and the password of the user, separrated by commas and by space to separate each user.<br>\n",
    "So the file is a thing like this:<br>\n",
    "<br>\n",
    "victor,placido<br>\n",
    "sam,gomes<br>\n",
    "root,root<br>\n",
    "<br>\n",
    "This function just read the file and return a list containing other lists that contain the username and the password of each user.<br>\n",
    "Initially the function returns a dictionary of users like keys and password as values, but this proved to be a problem when we need to create a index to all the users. With the lists of users there position in the list is the index.<br>"
   ]
  },
  {
   "cell_type": "markdown",
   "metadata": {},
   "source": [
    "## Catch the name of the IDs and Photos of all users"
   ]
  },
  {
   "cell_type": "code",
   "execution_count": null,
   "metadata": {},
   "outputs": [],
   "source": [
    "def getimagemcomid(mostrar_ids = 0):\n",
    "    caminhos = [os.path.join('fotos',f) for f in os.listdir('fotos')]\n",
    "    faces=[]\n",
    "    ids=[]\n",
    "    for caminhoimagem in caminhos:\n",
    "        imagemface = cv2.cvtColor(cv2.imread(caminhoimagem),cv2.COLOR_BGR2GRAY)\n",
    "        id = int(os.path.split(caminhoimagem)[-1].split('.')[1])\n",
    "        if(mostrar_ids == 1):\n",
    "            print(id)\n",
    "        ids.append(id)\n",
    "        faces.append(imagemface)\n",
    "    return np.array(ids), faces"
   ]
  },
  {
   "cell_type": "markdown",
   "metadata": {},
   "source": [
    "This function catch all the IDs and photos needed by future functions to realize the training of the Raspberry Pi"
   ]
  },
  {
   "cell_type": "markdown",
   "metadata": {},
   "source": [
    "## Function to take pictures and train the Raspberry"
   ]
  },
  {
   "cell_type": "code",
   "execution_count": null,
   "metadata": {},
   "outputs": [],
   "source": [
    "def gravar_rosto(id, camera, classificador, classificadorolho):\n",
    "    amostra = 1\n",
    "    numeroamostras = 25\n",
    "    largura = 200\n",
    "    altura = 200\n",
    "    print('Capturando as faces...')\n",
    "    while(camera.isOpened()):\n",
    "        conectado, imagem = camera.read()  \n",
    "        if(conectado):\n",
    "            imagemcinza = cv2.cvtColor(imagem, cv2.COLOR_BGR2GRAY)\n",
    "            print(np.average(imagemcinza))\n",
    "            facesdetectadas = classificador.detectMultiScale(imagemcinza, scaleFactor=1.5, minSize=(150,150))\n",
    "\n",
    "        for (x,y,l,a) in facesdetectadas:\n",
    "            cv2.rectangle(imagem, (x,y), (x+l, y+a), (0,0,255), 2)\n",
    "            regiao = imagem[y:y + a, x:x + l]\n",
    "            regiaocinzaolho = cv2.cvtColor(regiao, cv2.COLOR_BGR2GRAY)\n",
    "\n",
    "            olhosdetectados = classificadorolho.detectMultiScale(regiaocinzaolho)\n",
    "\n",
    "            for(ox, oy, ol, oa) in olhosdetectados:\n",
    "                cv2.rectangle(regiao, (ox, oy), (ox+ol, oy+oa), (0, 255, 0), 2)\n",
    "\n",
    "                if(cv2.waitKey(1) & 0xFF == ord('q')):\n",
    "                    if(np.average(imagemcinza) > 70):\n",
    "                        imagemface = cv2.resize(imagemcinza[y:y + a, x:x + l], (largura, altura))\n",
    "                        cv2.imwrite('fotos/pessoa.' + str(id) + '.' + str(amostra) + '.jpg', imagemface)\n",
    "                        print('Foto ' + str(amostra) + ' capturada com sucesso!')\n",
    "                        amostra = amostra+1\n",
    "                            \n",
    "        cv2.imshow('Face', imagem)\n",
    "        cv2.waitKey(1)\n",
    "        if(cv2.waitKey(1) & 0xFF == 27):\n",
    "            break\n",
    "        if(amostra >= numeroamostras + 1):\n",
    "            break\n",
    "    print('Faces capturadas om sucesso')\n",
    "    camera.release()\n",
    "    cv2.destroyAllWindows() \n",
    "\n",
    "    eigenface = cv2.face.EigenFaceRecognizer_create()\n",
    "    fisherface = cv2.face.FisherFaceRecognizer_create()\n",
    "    lbph = cv2.face.LBPHFaceRecognizer_create()\n",
    "                  \n",
    "    ids, faces = getimagemcomid(1) \n",
    "    print('Treinando...')\n",
    "\n",
    "    eigenface.train(faces, ids)\n",
    "    eigenface.write('classificadorEigen.yml')\n",
    "\n",
    "    fisherface.train(faces, ids)\n",
    "    fisherface.write('classificadorFisher.yml')\n",
    "\n",
    "    lbph.train(faces, ids)\n",
    "    lbph.write('classificadorLBPH.yml')\n",
    "\n",
    "    print('Treinamento Realizado')\n",
    "    return 1"
   ]
  },
  {
   "cell_type": "markdown",
   "metadata": {},
   "source": [
    "This function take pictures with some conditions:<br>\n",
    "    1-The light needs to be in a minimum of 110;<br>\n",
    "    2-The raspberry must have recognized the eyes and face of the person.<br>\n",
    "<br>\n",
    "After the pictures has been captured the function realises the training of the Raspberry, using the three methods, (LBPH, Fisher and Eigen)."
   ]
  },
  {
   "cell_type": "markdown",
   "metadata": {},
   "source": [
    "## Functions to create and remove a user"
   ]
  },
  {
   "cell_type": "code",
   "execution_count": null,
   "metadata": {},
   "outputs": [],
   "source": [
    "def novo_usuario(novo_user, nova_pass, camera, classificador, classificadorolho):\n",
    "    arq = open('users.txt', 'a')\n",
    "\n",
    "    nova_linha = '\\n' + novo_user + ',' + nova_pass\n",
    "    arq.writelines(nova_linha)\n",
    "\n",
    "    arq.close()\n",
    "    \n",
    "    users = ler_users()\n",
    "    usuarios = []\n",
    "    for x in users:\n",
    "        usuarios.append(x[0])\n",
    "        \n",
    "    gravar_rosto(usuarios.index(user), camera, classificador, classificadorolho)\n",
    "    \n",
    "    print('Usuario ' + novo_user + ' adicionado!!!')\n",
    "    return 1\n",
    "\n",
    "def apagar_rosto(id_a_ser_removido):\n",
    "    caminhos = [os.path.join('fotos',f) for f in os.listdir('fotos')]\n",
    "    for caminhoimagem in caminhos:\n",
    "        id = int(os.path.split(caminhoimagem)[-1].split('.')[1])\n",
    "        if(id == id_a_ser_removido):\n",
    "            os.remove(caminhoimagem)\n",
    "    \n",
    "    eigenface = cv2.face.EigenFaceRecognizer_create()\n",
    "    fisherface = cv2.face.FisherFaceRecognizer_create()\n",
    "    lbph = cv2.face.LBPHFaceRecognizer_create()\n",
    "                      \n",
    "    ids, faces = getimagemcomid(1) \n",
    "    print('Apagando...')\n",
    "    \n",
    "    eigenface.train(faces, ids)\n",
    "    eigenface.write('classificadorEigen.yml')\n",
    "    \n",
    "    fisherface.train(faces, ids)\n",
    "    fisherface.write('classificadorFisher.yml')\n",
    "    \n",
    "    lbph.train(faces, ids)\n",
    "    lbph.write('classificadorLBPH.yml')\n",
    "    \n",
    "    print(str(id) + ' Apagado!!!')"
   ]
  },
  {
   "cell_type": "markdown",
   "metadata": {},
   "source": [
    "This functions respectivly create a new user and remover a user.<br>\n",
    "The user needs to input the name of the user that they want to create, a password and take the pictures required be the function \"gravar_rosto()\"\n",
    "To remove a user the administrator need to input a name that are in the user.txt file"
   ]
  },
  {
   "cell_type": "markdown",
   "metadata": {},
   "source": [
    "# Main"
   ]
  },
  {
   "cell_type": "code",
   "execution_count": null,
   "metadata": {},
   "outputs": [],
   "source": [
    "classificador = cv2.CascadeClassifier(\"haarcascade-frontalface-default.xml\")\n",
    "classificadorolho = cv2.CascadeClassifier(\"haarcascade-eye.xml\")\n",
    "camera = cv2.VideoCapture(0)\n",
    "\n",
    "users= ler_users()\n",
    "\n",
    "resp = verifica_resposta_valida('Deseja entrar no modo administrador?[S/N] ')\n",
    "\n",
    "if(resp == 'S'):\n",
    "    modo_administrador(users, camera, classificador, classificadorolho)\n",
    "    modo_vigilancia(camera, classificador, classificadorolho)\n",
    "else:\n",
    "    modo_vigilancia(camera, classificador, classificadorolho)"
   ]
  },
  {
   "cell_type": "markdown",
   "metadata": {},
   "source": [
    "The main file of the program just receives the input of the user if he/she wants to enter administrator mode or the vigilance mode"
   ]
  },
  {
   "cell_type": "markdown",
   "metadata": {},
   "source": [
    "# Compiled of all functions"
   ]
  },
  {
   "cell_type": "code",
   "execution_count": 2,
   "metadata": {
    "ExecuteTime": {
     "end_time": "2018-11-03T17:26:51.700242Z",
     "start_time": "2018-11-03T17:26:48.369986Z"
    }
   },
   "outputs": [],
   "source": [
    "def timeout(seconds):\n",
    "    def decorator(function):\n",
    "        def wrapper(*args, **kwargs):\n",
    "            pool = ThreadPool(processes=1)\n",
    "            result = pool.apply_async(function, args=args, kwds=kwargs)\n",
    "            try:\n",
    "                return result.get(timeout=seconds)\n",
    "            except TimeoutError as e:\n",
    "                return e\n",
    "        return wrapper\n",
    "    return decorator\n",
    "\n",
    "@timeout(60)\n",
    "def read_user_name(pergunta):\n",
    "    return input(pergunta)\n",
    "\n",
    "def verifica_resposta_valida(pergunta):\n",
    "    while(1):\n",
    "        resp = read_user_name(pergunta)\n",
    "        if isinstance(resp, TimeoutError):\n",
    "            resp = 'n'\n",
    "        \n",
    "        if(resp != 'S' and resp != 's' and resp != 'N' and resp != 'n'):\n",
    "            print('Resposta Invalida! Tente Novamente!!!!!')\n",
    "        else:\n",
    "            break\n",
    "    \n",
    "    return resp.upper()\n",
    "    \n",
    "\n",
    "def insere_nome(pergunta = 'Nome: '):\n",
    "    resp = read_user_name('Nome: ')\n",
    "    if isinstance(resp, TimeoutError):\n",
    "            resp = 'n'\n",
    "    \n",
    "    return resp.lower()\n",
    "\n",
    "def insere_senha(pergunta = 'Senha: '):\n",
    "    resp = read_user_name(pergunta)\n",
    "    if isinstance(resp, TimeoutError):\n",
    "            resp = 'n'\n",
    "    \n",
    "    return(resp.lower())\n",
    "\n",
    "\n",
    "def modo_administrador(users, camera, classificador, classificadorolho):\n",
    "    user = str()\n",
    "    password = str()\n",
    "    print('########## Modo Administrativo ##########')\n",
    "\n",
    "    while(1):\n",
    "        user = insere_nome('Usuario: ')\n",
    "        password = insere_senha()\n",
    "        usuarios = []\n",
    "        senhas = []\n",
    "        for x in users:\n",
    "            usuarios.append(x[0])\n",
    "            senhas.append(x[1])\n",
    "        \n",
    "        if(user in usuarios):\n",
    "            index = usuarios.index(user)\n",
    "            if(password == senhas[index]):\n",
    "                break\n",
    "            else:\n",
    "                print('Usuario ou senha incorretas!!!!!')\n",
    "                resp = verifica_resposta_valida('Deseja tentar novamente? [S/N]')\n",
    "                if(resp == 'N'):\n",
    "                    return 1\n",
    "        else:\n",
    "            print('Usuario ou senha incorretas!!!!!')\n",
    "            resp = verifica_resposta_valida('Deseja tentar novamente? [S/N]')\n",
    "            if(resp == 'N'):\n",
    "                return 1\n",
    "    \n",
    "    while(1):\n",
    "        print('#### Acesso Concedido ####')\n",
    "        print('1. Criar novo usuário')\n",
    "        print('2. Apagar Usuario')\n",
    "        print('3. Listar Usuarios')\n",
    "        print('4. Abrir Fechadura')\n",
    "        print('5. Sair')\n",
    "        q = input('Escolha uma das opcoes: ')\n",
    "\n",
    "        if(q == '1'):\n",
    "            while(1):\n",
    "                user = insere_nome()\n",
    "                \n",
    "                if(user in usuarios):\n",
    "                    print('Usuario já existe!!!!')\n",
    "                    resp = verifica_resposta_valida('Deseja tentar novamente?[S/N] ')\n",
    "                    if(resp == 'N'):\n",
    "                        break\n",
    "                else:\n",
    "                    password = insere_senha()\n",
    "                    confirmacao = insere_senha('Confirme a senha: ')\n",
    "                    if(password == confirmacao):\n",
    "                        novo_usuario(user, password, camera, classificador, classificadorolho)\n",
    "                        break\n",
    "                    else:\n",
    "                        print('Senha e confirmacao nao batem!!!!!')\n",
    "                        resp = verifica_resposta_valida('Deseja tentar novamente?[S/N] ')\n",
    "                        if(resp == 'N'):\n",
    "                            break\n",
    "\n",
    "        elif(q == '2'):\n",
    "            while(1):\n",
    "                nome = insere_nome()\n",
    "                \n",
    "                if(nome not in usuarios):\n",
    "                    print('Nome nao existe na base!!!!!!!!')\n",
    "                    resp = verifica_resposta_valida('Deseja tentar novamente?[S/N] ')\n",
    "                    if(resp == 'N'):\n",
    "                        break\n",
    "                else:\n",
    "                    confirmacao = verifica_resposta_valida('Voce deseja realmente apagar o rosto de ' + nome + '?[S/N] ')\n",
    "                    if(confirmacao == 'S'):\n",
    "                        apagar_rosto(usuarios.find(nome))\n",
    "                        break\n",
    "\n",
    "        elif(q == '3'):\n",
    "            print('Usuario, senha')\n",
    "            for user in users:\n",
    "                print(user)\n",
    "                        \n",
    "        elif(q == '4'):\n",
    "            print('Porta aberta')\n",
    "                \n",
    "        else:\n",
    "            break\n",
    "    return 1\n",
    "\n",
    "def modo_vigilancia(camera, classificador, classificadorolho):\n",
    "    print('########## Modo Vigilância ##########')\n",
    "    while(camera.isOpened()):\n",
    "        conectado, imagem = camera.read() \n",
    "        if(conectado):\n",
    "            imagemcinza = cv2.cvtColor(imagem, cv2.COLOR_BGR2GRAY)\n",
    "            facesdetectadas = classificador.detectMultiScale(imagemcinza, scaleFactor=1.5, minSize=(100,100))\n",
    "\n",
    "        for (x,y,l,a) in facesdetectadas:\n",
    "            cv2.rectangle(imagem, (x,y), (x+l, y+a), (0,0,255), 2)\n",
    "        cv2.imshow('Face', imagem)\n",
    "\n",
    "        #Botão para cancelar a execução\n",
    "        key = cv2.waitKey(1) & 0xFF\n",
    "        if (key==27):\n",
    "            break\n",
    "    camera.release()\n",
    "    cv2.destroyAllWindows()\n",
    "\n",
    "\n",
    "def ler_users():\n",
    "    arq = open('users.txt', 'r')\n",
    "    users = arq.readlines()\n",
    "    senhas = []\n",
    "    for i in range(len(users)):\n",
    "        if(i < len(users)-1):\n",
    "            users[i] = users[i][:-1]\n",
    "            usuario = users[i][:users[i].find(',')]\n",
    "            password = users[i][1+users[i].find(','):]\n",
    "            \n",
    "            lista = [usuario, password]\n",
    "            senhas.append(lista)\n",
    "            \n",
    "        else:\n",
    "            usuario = users[i][:users[i].find(',')]\n",
    "            password = users[i][1+users[i].find(','):]\n",
    "            \n",
    "            lista = [usuario, password]\n",
    "            senhas.append(lista)\n",
    "\n",
    "    return senhas\n",
    "\n",
    "\n",
    "def novo_usuario(novo_user, nova_pass, camera, classificador, classificadorolho):\n",
    "    arq = open('users.txt', 'a')\n",
    "\n",
    "    nova_linha = '\\n' + novo_user + ',' + nova_pass\n",
    "    arq.writelines(nova_linha)\n",
    "\n",
    "    arq.close()\n",
    "    \n",
    "    users = ler_users()\n",
    "    usuarios = []\n",
    "    for x in users:\n",
    "        usuarios.append(x[0])\n",
    "        \n",
    "    gravar_rosto(usuarios.index(user), camera, classificador, classificadorolho)\n",
    "    \n",
    "    print('Usuario ' + novo_user + ' adicionado!!!')\n",
    "    return 1\n",
    "\n",
    "def getimagemcomid(mostrar_ids = 0):\n",
    "    caminhos = [os.path.join('fotos',f) for f in os.listdir('fotos')]\n",
    "    faces=[]\n",
    "    ids=[]\n",
    "    for caminhoimagem in caminhos:\n",
    "        imagemface = cv2.cvtColor(cv2.imread(caminhoimagem),cv2.COLOR_BGR2GRAY)\n",
    "        id = int(os.path.split(caminhoimagem)[-1].split('.')[1])\n",
    "        if(mostrar_ids == 1):\n",
    "            print(id)\n",
    "        ids.append(id)\n",
    "        faces.append(imagemface)\n",
    "    return np.array(ids), faces\n",
    "\n",
    "def apagar_rosto(id_a_ser_removido):\n",
    "    caminhos = [os.path.join('fotos',f) for f in os.listdir('fotos')]\n",
    "    for caminhoimagem in caminhos:\n",
    "        id = int(os.path.split(caminhoimagem)[-1].split('.')[1])\n",
    "        if(id == id_a_ser_removido):\n",
    "            os.remove(caminhoimagem)\n",
    "    \n",
    "    eigenface = cv2.face.EigenFaceRecognizer_create()\n",
    "    fisherface = cv2.face.FisherFaceRecognizer_create()\n",
    "    lbph = cv2.face.LBPHFaceRecognizer_create()\n",
    "                      \n",
    "    ids, faces = getimagemcomid(1) \n",
    "    print('Apagando...')\n",
    "    \n",
    "    eigenface.train(faces, ids)\n",
    "    eigenface.write('classificadorEigen.yml')\n",
    "    \n",
    "    fisherface.train(faces, ids)\n",
    "    fisherface.write('classificadorFisher.yml')\n",
    "    \n",
    "    lbph.train(faces, ids)\n",
    "    lbph.write('classificadorLBPH.yml')\n",
    "    \n",
    "    print(str(id) + ' Apagado!!!')\n",
    "\n",
    "def gravar_rosto(id, camera, classificador, classificadorolho):\n",
    "    amostra = 1\n",
    "    numeroamostras = 25\n",
    "    largura = 200\n",
    "    altura = 200\n",
    "    print('Capturando as faces...')\n",
    "    while(camera.isOpened()):\n",
    "        conectado, imagem = camera.read()  \n",
    "        if(conectado):\n",
    "            imagemcinza = cv2.cvtColor(imagem, cv2.COLOR_BGR2GRAY)\n",
    "            print(np.average(imagemcinza))\n",
    "            facesdetectadas = classificador.detectMultiScale(imagemcinza, scaleFactor=1.5, minSize=(150,150))\n",
    "\n",
    "        for (x,y,l,a) in facesdetectadas:\n",
    "            cv2.rectangle(imagem, (x,y), (x+l, y+a), (0,0,255), 2)\n",
    "            regiao = imagem[y:y + a, x:x + l]\n",
    "            regiaocinzaolho = cv2.cvtColor(regiao, cv2.COLOR_BGR2GRAY)\n",
    "\n",
    "            olhosdetectados = classificadorolho.detectMultiScale(regiaocinzaolho)\n",
    "\n",
    "            for(ox, oy, ol, oa) in olhosdetectados:\n",
    "                cv2.rectangle(regiao, (ox, oy), (ox+ol, oy+oa), (0, 255, 0), 2)\n",
    "\n",
    "                if(cv2.waitKey(1) & 0xFF == ord('q')):\n",
    "                    if(np.average(imagemcinza) > 70):\n",
    "                        imagemface = cv2.resize(imagemcinza[y:y + a, x:x + l], (largura, altura))\n",
    "                        cv2.imwrite('fotos/pessoa.' + str(id) + '.' + str(amostra) + '.jpg', imagemface)\n",
    "                        print('Foto ' + str(amostra) + ' capturada com sucesso!')\n",
    "                        amostra = amostra+1\n",
    "                            \n",
    "        cv2.imshow('Face', imagem)\n",
    "        cv2.waitKey(1)\n",
    "        if(cv2.waitKey(1) & 0xFF == 27):\n",
    "            break\n",
    "        if(amostra >= numeroamostras + 1):\n",
    "            break\n",
    "    print('Faces capturadas om sucesso')\n",
    "    camera.release()\n",
    "    cv2.destroyAllWindows() \n",
    "\n",
    "    eigenface = cv2.face.EigenFaceRecognizer_create()\n",
    "    fisherface = cv2.face.FisherFaceRecognizer_create()\n",
    "    lbph = cv2.face.LBPHFaceRecognizer_create()\n",
    "                  \n",
    "    ids, faces = getimagemcomid(1) \n",
    "    print('Treinando...')\n",
    "\n",
    "    eigenface.train(faces, ids)\n",
    "    eigenface.write('classificadorEigen.yml')\n",
    "\n",
    "    fisherface.train(faces, ids)\n",
    "    fisherface.write('classificadorFisher.yml')\n",
    "\n",
    "    lbph.train(faces, ids)\n",
    "    lbph.write('classificadorLBPH.yml')\n",
    "\n",
    "    print('Treinamento Realizado')\n",
    "    return 1"
   ]
  }
 ],
 "metadata": {
  "_draft": {
   "nbviewer_url": "https://gist.github.com/b5d6592a38f466613eb1552c795d3752"
  },
  "gist": {
   "data": {
    "description": "Google Drive/Mackenzie/2018/2º Semestre/Matérias/Projetos Elétricos e Eletrônicos/Programa_Python/Picial_Recognition/Notebook/Untitled.ipynb",
    "public": false
   },
   "id": "b5d6592a38f466613eb1552c795d3752"
  },
  "kernelspec": {
   "display_name": "Python 3",
   "language": "python",
   "name": "python3"
  },
  "language_info": {
   "codemirror_mode": {
    "name": "ipython",
    "version": 3
   },
   "file_extension": ".py",
   "mimetype": "text/x-python",
   "name": "python",
   "nbconvert_exporter": "python",
   "pygments_lexer": "ipython3",
   "version": "3.6.7"
  },
  "toc": {
   "base_numbering": 1,
   "nav_menu": {},
   "number_sections": true,
   "sideBar": true,
   "skip_h1_title": false,
   "title_cell": "Table of Contents",
   "title_sidebar": "Contents",
   "toc_cell": false,
   "toc_position": {
    "height": "calc(100% - 180px)",
    "left": "10px",
    "top": "150px",
    "width": "288px"
   },
   "toc_section_display": true,
   "toc_window_display": true
  },
  "varInspector": {
   "cols": {
    "lenName": 16,
    "lenType": 16,
    "lenVar": 40
   },
   "kernels_config": {
    "python": {
     "delete_cmd_postfix": "",
     "delete_cmd_prefix": "del ",
     "library": "var_list.py",
     "varRefreshCmd": "print(var_dic_list())"
    },
    "r": {
     "delete_cmd_postfix": ") ",
     "delete_cmd_prefix": "rm(",
     "library": "var_list.r",
     "varRefreshCmd": "cat(var_dic_list()) "
    }
   },
   "types_to_exclude": [
    "module",
    "function",
    "builtin_function_or_method",
    "instance",
    "_Feature"
   ],
   "window_display": false
  }
 },
 "nbformat": 4,
 "nbformat_minor": 2
}
